{
 "cells": [
  {
   "cell_type": "code",
   "execution_count": 6,
   "id": "db57542c",
   "metadata": {},
   "outputs": [],
   "source": [
    "#Importing libraries\n",
    "import pandas as pd\n",
    "from geopandas.tools import geocode"
   ]
  },
  {
   "cell_type": "code",
   "execution_count": 95,
   "id": "16dbe3e3",
   "metadata": {},
   "outputs": [],
   "source": [
    "import folium"
   ]
  },
  {
   "cell_type": "code",
   "execution_count": 45,
   "id": "d5ac9208",
   "metadata": {},
   "outputs": [
    {
     "data": {
      "text/plain": [
       "geopy.geocoders.nominatim.Nominatim"
      ]
     },
     "execution_count": 45,
     "metadata": {},
     "output_type": "execute_result"
    }
   ],
   "source": [
    "from geopy.geocoders import get_geocoder_for_service\n",
    "get_geocoder_for_service(\"nominatim\")"
   ]
  },
  {
   "cell_type": "code",
   "execution_count": 37,
   "id": "2911d0cc",
   "metadata": {},
   "outputs": [],
   "source": [
    "#Retrieving data from Websites\n",
    "data= pd.read_html('https://en.wikipedia.org/wiki/List_of_most_visited_palaces_and_monuments')\n",
    "for monuments in data:\n",
    "    pass\n"
   ]
  },
  {
   "cell_type": "code",
   "execution_count": 38,
   "id": "9d15c0c0",
   "metadata": {},
   "outputs": [],
   "source": [
    "#Saving the information in CSV file\n",
    "monuments.to_csv('most_visited.csv', header=False)"
   ]
  },
  {
   "cell_type": "code",
   "execution_count": 90,
   "id": "e2e1543a",
   "metadata": {},
   "outputs": [],
   "source": [
    "#reading the CSV back into dataframe\n",
    "monuments= pd.read_csv('most_visited.csv', usecols=[1,2,3], names=['Name','Location','Visitors'], header=None, skiprows=1, nrows=40)"
   ]
  },
  {
   "cell_type": "code",
   "execution_count": 91,
   "id": "274a89be",
   "metadata": {},
   "outputs": [
    {
     "name": "stdout",
     "output_type": "stream",
     "text": [
      "St. Peter's Basilica\n",
      "Palace of Versailles\n",
      "Lincoln Memorial\n",
      "Parthenon\n",
      "Eiffel Tower\n",
      "Taj Mahal\n",
      "Cologne Cathedral\n",
      "Peterhof Palace\n",
      "Vietnam Veterans Memorial\n",
      "World War II Memorial\n",
      "Independence National Historical Park\n",
      "Sagrada Familia\n",
      "Statue of Liberty National Monument\n",
      "Teotihuacan\n",
      "Mysore Palace\n",
      "Pompeii\n",
      "Wilanow Palace\n",
      "Schonbrunn Palace\n",
      "Kazan Kremlin\n",
      "Tower of London\n",
      "Alhambra\n",
      "Chichen Itza\n",
      "Topkapi Palace\n",
      "Chapultepec Castle\n",
      "Ciudad de las Artes y las Ciencias\n",
      "Statue of Unity\n",
      "Moscow Kremlin\n",
      "Tulum\n",
      "Edinburgh Castle\n",
      "Alcazar of Seville\n",
      "Wawel Castle\n",
      "Arc de Triomphe\n",
      "Royal Palace of Madrid\n",
      "Neuschwanstein Castle\n",
      "Machu Picchu\n",
      "Castillo San Felipe del Morro \n"
     ]
    }
   ],
   "source": [
    "#Iterate through the data frame for geocoding\n",
    "for index,row in monuments.iterrows():\n",
    "    try: \n",
    "        print(row['Name'])\n",
    "        info= geocode(str(row['Name']),provider='nominatim', user_agent='xyz')\n",
    "        monuments.loc[int(index), 'Address']= info['address'].loc[0]\n",
    "        monuments.loc[int(index), 'Lon']= info['geometry'].loc[0].x\n",
    "        monuments.loc[int(index), 'Lat']= info['geometry'].loc[0].y\n",
    "    except TypeError:\n",
    "        print('Geocoding for'+ row['Name']+'is not found')\n",
    "        print('')"
   ]
  },
  {
   "cell_type": "code",
   "execution_count": 94,
   "id": "4ee60a74",
   "metadata": {},
   "outputs": [],
   "source": [
    "#saving the file to csv\n",
    "monuments.to_csv('monuments.csv')\n"
   ]
  },
  {
   "cell_type": "code",
   "execution_count": 100,
   "id": "ceaafbca",
   "metadata": {},
   "outputs": [],
   "source": [
    "#importing the csv file again back\n",
    "datasets=pd.read_csv('monuments.csv')\n",
    "del datasets['Unnamed: 0']\n"
   ]
  },
  {
   "cell_type": "code",
   "execution_count": 105,
   "id": "de995ae1",
   "metadata": {},
   "outputs": [],
   "source": [
    "m= folium.Map(tiles='openstreetmap', zoom_starts=2)\n",
    "\n",
    "for index,row in datasets.iterrows():\n",
    "    folium.Marker([row['Lat'],row['Lon']], popup= 'Name:'+ row['Name']+ '<br>' '<br>' 'No. of Visitors:'+ row['Visitors']).add_to(m)\n",
    "m.save('Monuments_around_the _world.html')"
   ]
  }
 ],
 "metadata": {
  "kernelspec": {
   "display_name": "Python 3 (ipykernel)",
   "language": "python",
   "name": "python3"
  },
  "language_info": {
   "codemirror_mode": {
    "name": "ipython",
    "version": 3
   },
   "file_extension": ".py",
   "mimetype": "text/x-python",
   "name": "python",
   "nbconvert_exporter": "python",
   "pygments_lexer": "ipython3",
   "version": "3.11.5"
  }
 },
 "nbformat": 4,
 "nbformat_minor": 5
}
