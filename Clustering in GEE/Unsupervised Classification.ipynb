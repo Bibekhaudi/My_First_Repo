{
 "cells": [
  {
   "cell_type": "code",
   "execution_count": 1,
   "id": "a4defdc4",
   "metadata": {},
   "outputs": [],
   "source": [
    "#importing earth engine\n",
    "import ee\n"
   ]
  },
  {
   "cell_type": "code",
   "execution_count": 2,
   "id": "4e3a8f25",
   "metadata": {},
   "outputs": [
    {
     "data": {
      "text/html": [
       "<p>To authorize access needed by Earth Engine, open the following\n",
       "        URL in a web browser and follow the instructions:</p>\n",
       "        <p><a href=https://code.earthengine.google.com/client-auth?scopes=https%3A//www.googleapis.com/auth/earthengine%20https%3A//www.googleapis.com/auth/devstorage.full_control&request_id=G-W5kWJ9sRVJAkZ4yinTj9DLZOPYjkNFa7-SdgUBCuQ&tc=5gJXFoMA8udRDlhZo3oCP6fpDRW6fQHjUj-SuS9t-XY&cc=e1Jv1JekfF-TAoLymNmC00JkompYmQsGmmYl8pzA0z8>https://code.earthengine.google.com/client-auth?scopes=https%3A//www.googleapis.com/auth/earthengine%20https%3A//www.googleapis.com/auth/devstorage.full_control&request_id=G-W5kWJ9sRVJAkZ4yinTj9DLZOPYjkNFa7-SdgUBCuQ&tc=5gJXFoMA8udRDlhZo3oCP6fpDRW6fQHjUj-SuS9t-XY&cc=e1Jv1JekfF-TAoLymNmC00JkompYmQsGmmYl8pzA0z8</a></p>\n",
       "        <p>The authorization workflow will generate a code, which you should paste in the box below.</p>\n",
       "        "
      ],
      "text/plain": [
       "<IPython.core.display.HTML object>"
      ]
     },
     "metadata": {},
     "output_type": "display_data"
    },
    {
     "name": "stdout",
     "output_type": "stream",
     "text": [
      "Enter verification code: 4/1AfJohXnMSndGPfvRfC7N6M4q7a6kILv7VmfjxFFOTCDVXewjYS5bNiER9Bo\n",
      "\n",
      "Successfully saved authorization token.\n"
     ]
    }
   ],
   "source": [
    "#Authenticating the flow\n",
    "ee.Authenticate()"
   ]
  },
  {
   "cell_type": "code",
   "execution_count": 3,
   "id": "e21dbac6",
   "metadata": {},
   "outputs": [],
   "source": [
    "ee.Initialize()"
   ]
  },
  {
   "cell_type": "code",
   "execution_count": null,
   "id": "ec9db981",
   "metadata": {},
   "outputs": [],
   "source": []
  },
  {
   "cell_type": "code",
   "execution_count": 12,
   "id": "5d268fcc",
   "metadata": {},
   "outputs": [],
   "source": [
    "#define region of interest\n",
    "region= ee.Geometry.Rectangle(31.56, -26.24, 31.78,-26.09)\n",
    "\n",
    "#loading Landsat data\n",
    "image= ee.ImageCollection('LANDSAT/LC08/C01/T1')\\\n",
    ".filterDate('2017-01-01', '2017-12-31')\\\n",
    ".filterBounds(region)\\\n",
    ".sort('CLOUD_COVER', True)\\\n",
    ".first()\n",
    "\n",
    "#Making the training data\n",
    "training= image.sample(**{\n",
    "    'region': region,\n",
    "    'scale': 30,\n",
    "    'numPixels': 5000  \n",
    "})\n",
    "#initiating the clusterer and training it\n",
    "clusterer= ee.Clusterer.wekaKMeans(15).train(training)\n",
    "\n",
    "#cluster the input using trained clusterer\n",
    "result= image.cluster(clusterer)"
   ]
  },
  {
   "cell_type": "code",
   "execution_count": 5,
   "id": "9356e1c6",
   "metadata": {},
   "outputs": [],
   "source": [
    "#import folium library\n",
    "import folium\n"
   ]
  },
  {
   "cell_type": "code",
   "execution_count": 6,
   "id": "6c8a622c",
   "metadata": {},
   "outputs": [],
   "source": [
    "#defining a method for displaying GEE tiles to folium map\n",
    "def add_ee_layer(self, ee_image_object, vis_params, name):\n",
    "     map_id_dict = ee.Image(ee_image_object).getMapId(vis_params)\n",
    "     folium.raster_layers.TileLayer(\n",
    "            tiles = map_id_dict['tile_fetcher'].url_format,\n",
    "            attr = 'Google Earth Engine',\n",
    "            name = name,\n",
    "            overlay = True,\n",
    "            control = True\n",
    "            ).add_to(self)"
   ]
  },
  {
   "cell_type": "code",
   "execution_count": 7,
   "id": "29fa8e0a",
   "metadata": {},
   "outputs": [],
   "source": [
    "# adding EE drawing method to folium\n",
    "folium.Map.add_ee_layer = add_ee_layer"
   ]
  },
  {
   "cell_type": "code",
   "execution_count": 8,
   "id": "21e0fcaa",
   "metadata": {},
   "outputs": [],
   "source": [
    "#creating a folium map object\n",
    "my_map= folium.Map(location=[-26.1694, 31.6632], zoom_start= 11)"
   ]
  },
  {
   "cell_type": "code",
   "execution_count": 9,
   "id": "391d6fda",
   "metadata": {},
   "outputs": [],
   "source": [
    "#adding the layer to map object\n",
    "my_map.add_ee_layer(result.clip(region).randomVisualizer(),{}, 'clusters')"
   ]
  },
  {
   "cell_type": "code",
   "execution_count": 10,
   "id": "303631d1",
   "metadata": {},
   "outputs": [
    {
     "data": {
      "text/html": [
       "<div style=\"width:100%;\"><div style=\"position:relative;width:100%;height:0;padding-bottom:60%;\"><span style=\"color:#565656\">Make this Notebook Trusted to load map: File -> Trust Notebook</span><iframe srcdoc=\"&lt;!DOCTYPE html&gt;\n",
       "&lt;html&gt;\n",
       "&lt;head&gt;\n",
       "    \n",
       "    &lt;meta http-equiv=&quot;content-type&quot; content=&quot;text/html; charset=UTF-8&quot; /&gt;\n",
       "    \n",
       "        &lt;script&gt;\n",
       "            L_NO_TOUCH = false;\n",
       "            L_DISABLE_3D = false;\n",
       "        &lt;/script&gt;\n",
       "    \n",
       "    &lt;style&gt;html, body {width: 100%;height: 100%;margin: 0;padding: 0;}&lt;/style&gt;\n",
       "    &lt;style&gt;#map {position:absolute;top:0;bottom:0;right:0;left:0;}&lt;/style&gt;\n",
       "    &lt;script src=&quot;https://cdn.jsdelivr.net/npm/leaflet@1.9.3/dist/leaflet.js&quot;&gt;&lt;/script&gt;\n",
       "    &lt;script src=&quot;https://code.jquery.com/jquery-1.12.4.min.js&quot;&gt;&lt;/script&gt;\n",
       "    &lt;script src=&quot;https://cdn.jsdelivr.net/npm/bootstrap@5.2.2/dist/js/bootstrap.bundle.min.js&quot;&gt;&lt;/script&gt;\n",
       "    &lt;script src=&quot;https://cdnjs.cloudflare.com/ajax/libs/Leaflet.awesome-markers/2.0.2/leaflet.awesome-markers.js&quot;&gt;&lt;/script&gt;\n",
       "    &lt;link rel=&quot;stylesheet&quot; href=&quot;https://cdn.jsdelivr.net/npm/leaflet@1.9.3/dist/leaflet.css&quot;/&gt;\n",
       "    &lt;link rel=&quot;stylesheet&quot; href=&quot;https://cdn.jsdelivr.net/npm/bootstrap@5.2.2/dist/css/bootstrap.min.css&quot;/&gt;\n",
       "    &lt;link rel=&quot;stylesheet&quot; href=&quot;https://netdna.bootstrapcdn.com/bootstrap/3.0.0/css/bootstrap.min.css&quot;/&gt;\n",
       "    &lt;link rel=&quot;stylesheet&quot; href=&quot;https://cdn.jsdelivr.net/npm/@fortawesome/fontawesome-free@6.2.0/css/all.min.css&quot;/&gt;\n",
       "    &lt;link rel=&quot;stylesheet&quot; href=&quot;https://cdnjs.cloudflare.com/ajax/libs/Leaflet.awesome-markers/2.0.2/leaflet.awesome-markers.css&quot;/&gt;\n",
       "    &lt;link rel=&quot;stylesheet&quot; href=&quot;https://cdn.jsdelivr.net/gh/python-visualization/folium/folium/templates/leaflet.awesome.rotate.min.css&quot;/&gt;\n",
       "    \n",
       "            &lt;meta name=&quot;viewport&quot; content=&quot;width=device-width,\n",
       "                initial-scale=1.0, maximum-scale=1.0, user-scalable=no&quot; /&gt;\n",
       "            &lt;style&gt;\n",
       "                #map_a9c46f213494135d284683372e13e99a {\n",
       "                    position: relative;\n",
       "                    width: 100.0%;\n",
       "                    height: 100.0%;\n",
       "                    left: 0.0%;\n",
       "                    top: 0.0%;\n",
       "                }\n",
       "                .leaflet-container { font-size: 1rem; }\n",
       "            &lt;/style&gt;\n",
       "        \n",
       "&lt;/head&gt;\n",
       "&lt;body&gt;\n",
       "    \n",
       "    \n",
       "            &lt;div class=&quot;folium-map&quot; id=&quot;map_a9c46f213494135d284683372e13e99a&quot; &gt;&lt;/div&gt;\n",
       "        \n",
       "&lt;/body&gt;\n",
       "&lt;script&gt;\n",
       "    \n",
       "    \n",
       "            var map_a9c46f213494135d284683372e13e99a = L.map(\n",
       "                &quot;map_a9c46f213494135d284683372e13e99a&quot;,\n",
       "                {\n",
       "                    center: [-26.1694, 31.6632],\n",
       "                    crs: L.CRS.EPSG3857,\n",
       "                    zoom: 11,\n",
       "                    zoomControl: true,\n",
       "                    preferCanvas: false,\n",
       "                }\n",
       "            );\n",
       "\n",
       "            \n",
       "\n",
       "        \n",
       "    \n",
       "            var tile_layer_fd25c166658ffdfe770dc87b23e14680 = L.tileLayer(\n",
       "                &quot;https://{s}.tile.openstreetmap.org/{z}/{x}/{y}.png&quot;,\n",
       "                {&quot;attribution&quot;: &quot;Data by \\u0026copy; \\u003ca target=\\&quot;_blank\\&quot; href=\\&quot;http://openstreetmap.org\\&quot;\\u003eOpenStreetMap\\u003c/a\\u003e, under \\u003ca target=\\&quot;_blank\\&quot; href=\\&quot;http://www.openstreetmap.org/copyright\\&quot;\\u003eODbL\\u003c/a\\u003e.&quot;, &quot;detectRetina&quot;: false, &quot;maxNativeZoom&quot;: 18, &quot;maxZoom&quot;: 18, &quot;minZoom&quot;: 0, &quot;noWrap&quot;: false, &quot;opacity&quot;: 1, &quot;subdomains&quot;: &quot;abc&quot;, &quot;tms&quot;: false}\n",
       "            ).addTo(map_a9c46f213494135d284683372e13e99a);\n",
       "        \n",
       "    \n",
       "            var tile_layer_db9a7c3d83ec34b3a220e9ffdfdfecb0 = L.tileLayer(\n",
       "                &quot;https://earthengine.googleapis.com/v1/projects/earthengine-legacy/maps/18e516fd43346dc80105b987329561da-feea9c2ba6946ab60e50decffc169802/tiles/{z}/{x}/{y}&quot;,\n",
       "                {&quot;attribution&quot;: &quot;Google Earth Engine&quot;, &quot;detectRetina&quot;: false, &quot;maxNativeZoom&quot;: 18, &quot;maxZoom&quot;: 18, &quot;minZoom&quot;: 0, &quot;noWrap&quot;: false, &quot;opacity&quot;: 1, &quot;subdomains&quot;: &quot;abc&quot;, &quot;tms&quot;: false}\n",
       "            ).addTo(map_a9c46f213494135d284683372e13e99a);\n",
       "        \n",
       "    \n",
       "            var layer_control_b1a79a1d3232026390976b29bb5279b8 = {\n",
       "                base_layers : {\n",
       "                    &quot;openstreetmap&quot; : tile_layer_fd25c166658ffdfe770dc87b23e14680,\n",
       "                },\n",
       "                overlays :  {\n",
       "                    &quot;clusters&quot; : tile_layer_db9a7c3d83ec34b3a220e9ffdfdfecb0,\n",
       "                },\n",
       "            };\n",
       "            L.control.layers(\n",
       "                layer_control_b1a79a1d3232026390976b29bb5279b8.base_layers,\n",
       "                layer_control_b1a79a1d3232026390976b29bb5279b8.overlays,\n",
       "                {&quot;autoZIndex&quot;: true, &quot;collapsed&quot;: true, &quot;position&quot;: &quot;topright&quot;}\n",
       "            ).addTo(map_a9c46f213494135d284683372e13e99a);\n",
       "        \n",
       "&lt;/script&gt;\n",
       "&lt;/html&gt;\" style=\"position:absolute;width:100%;height:100%;left:0;top:0;border:none !important;\" allowfullscreen webkitallowfullscreen mozallowfullscreen></iframe></div></div>"
      ],
      "text/plain": [
       "<folium.folium.Map at 0x1ec300da610>"
      ]
     },
     "execution_count": 10,
     "metadata": {},
     "output_type": "execute_result"
    }
   ],
   "source": [
    "#adding layer control panel to map\n",
    "my_map.add_child(folium.LayerControl())"
   ]
  },
  {
   "cell_type": "code",
   "execution_count": 11,
   "id": "9b2c2c48",
   "metadata": {},
   "outputs": [
    {
     "data": {
      "text/html": [
       "<div style=\"width:100%;\"><div style=\"position:relative;width:100%;height:0;padding-bottom:60%;\"><span style=\"color:#565656\">Make this Notebook Trusted to load map: File -> Trust Notebook</span><iframe srcdoc=\"&lt;!DOCTYPE html&gt;\n",
       "&lt;html&gt;\n",
       "&lt;head&gt;\n",
       "    \n",
       "    &lt;meta http-equiv=&quot;content-type&quot; content=&quot;text/html; charset=UTF-8&quot; /&gt;\n",
       "    \n",
       "        &lt;script&gt;\n",
       "            L_NO_TOUCH = false;\n",
       "            L_DISABLE_3D = false;\n",
       "        &lt;/script&gt;\n",
       "    \n",
       "    &lt;style&gt;html, body {width: 100%;height: 100%;margin: 0;padding: 0;}&lt;/style&gt;\n",
       "    &lt;style&gt;#map {position:absolute;top:0;bottom:0;right:0;left:0;}&lt;/style&gt;\n",
       "    &lt;script src=&quot;https://cdn.jsdelivr.net/npm/leaflet@1.9.3/dist/leaflet.js&quot;&gt;&lt;/script&gt;\n",
       "    &lt;script src=&quot;https://code.jquery.com/jquery-1.12.4.min.js&quot;&gt;&lt;/script&gt;\n",
       "    &lt;script src=&quot;https://cdn.jsdelivr.net/npm/bootstrap@5.2.2/dist/js/bootstrap.bundle.min.js&quot;&gt;&lt;/script&gt;\n",
       "    &lt;script src=&quot;https://cdnjs.cloudflare.com/ajax/libs/Leaflet.awesome-markers/2.0.2/leaflet.awesome-markers.js&quot;&gt;&lt;/script&gt;\n",
       "    &lt;link rel=&quot;stylesheet&quot; href=&quot;https://cdn.jsdelivr.net/npm/leaflet@1.9.3/dist/leaflet.css&quot;/&gt;\n",
       "    &lt;link rel=&quot;stylesheet&quot; href=&quot;https://cdn.jsdelivr.net/npm/bootstrap@5.2.2/dist/css/bootstrap.min.css&quot;/&gt;\n",
       "    &lt;link rel=&quot;stylesheet&quot; href=&quot;https://netdna.bootstrapcdn.com/bootstrap/3.0.0/css/bootstrap.min.css&quot;/&gt;\n",
       "    &lt;link rel=&quot;stylesheet&quot; href=&quot;https://cdn.jsdelivr.net/npm/@fortawesome/fontawesome-free@6.2.0/css/all.min.css&quot;/&gt;\n",
       "    &lt;link rel=&quot;stylesheet&quot; href=&quot;https://cdnjs.cloudflare.com/ajax/libs/Leaflet.awesome-markers/2.0.2/leaflet.awesome-markers.css&quot;/&gt;\n",
       "    &lt;link rel=&quot;stylesheet&quot; href=&quot;https://cdn.jsdelivr.net/gh/python-visualization/folium/folium/templates/leaflet.awesome.rotate.min.css&quot;/&gt;\n",
       "    \n",
       "            &lt;meta name=&quot;viewport&quot; content=&quot;width=device-width,\n",
       "                initial-scale=1.0, maximum-scale=1.0, user-scalable=no&quot; /&gt;\n",
       "            &lt;style&gt;\n",
       "                #map_a9c46f213494135d284683372e13e99a {\n",
       "                    position: relative;\n",
       "                    width: 100.0%;\n",
       "                    height: 100.0%;\n",
       "                    left: 0.0%;\n",
       "                    top: 0.0%;\n",
       "                }\n",
       "                .leaflet-container { font-size: 1rem; }\n",
       "            &lt;/style&gt;\n",
       "        \n",
       "&lt;/head&gt;\n",
       "&lt;body&gt;\n",
       "    \n",
       "    \n",
       "            &lt;div class=&quot;folium-map&quot; id=&quot;map_a9c46f213494135d284683372e13e99a&quot; &gt;&lt;/div&gt;\n",
       "        \n",
       "&lt;/body&gt;\n",
       "&lt;script&gt;\n",
       "    \n",
       "    \n",
       "            var map_a9c46f213494135d284683372e13e99a = L.map(\n",
       "                &quot;map_a9c46f213494135d284683372e13e99a&quot;,\n",
       "                {\n",
       "                    center: [-26.1694, 31.6632],\n",
       "                    crs: L.CRS.EPSG3857,\n",
       "                    zoom: 11,\n",
       "                    zoomControl: true,\n",
       "                    preferCanvas: false,\n",
       "                }\n",
       "            );\n",
       "\n",
       "            \n",
       "\n",
       "        \n",
       "    \n",
       "            var tile_layer_fd25c166658ffdfe770dc87b23e14680 = L.tileLayer(\n",
       "                &quot;https://{s}.tile.openstreetmap.org/{z}/{x}/{y}.png&quot;,\n",
       "                {&quot;attribution&quot;: &quot;Data by \\u0026copy; \\u003ca target=\\&quot;_blank\\&quot; href=\\&quot;http://openstreetmap.org\\&quot;\\u003eOpenStreetMap\\u003c/a\\u003e, under \\u003ca target=\\&quot;_blank\\&quot; href=\\&quot;http://www.openstreetmap.org/copyright\\&quot;\\u003eODbL\\u003c/a\\u003e.&quot;, &quot;detectRetina&quot;: false, &quot;maxNativeZoom&quot;: 18, &quot;maxZoom&quot;: 18, &quot;minZoom&quot;: 0, &quot;noWrap&quot;: false, &quot;opacity&quot;: 1, &quot;subdomains&quot;: &quot;abc&quot;, &quot;tms&quot;: false}\n",
       "            ).addTo(map_a9c46f213494135d284683372e13e99a);\n",
       "        \n",
       "    \n",
       "            var tile_layer_db9a7c3d83ec34b3a220e9ffdfdfecb0 = L.tileLayer(\n",
       "                &quot;https://earthengine.googleapis.com/v1/projects/earthengine-legacy/maps/18e516fd43346dc80105b987329561da-feea9c2ba6946ab60e50decffc169802/tiles/{z}/{x}/{y}&quot;,\n",
       "                {&quot;attribution&quot;: &quot;Google Earth Engine&quot;, &quot;detectRetina&quot;: false, &quot;maxNativeZoom&quot;: 18, &quot;maxZoom&quot;: 18, &quot;minZoom&quot;: 0, &quot;noWrap&quot;: false, &quot;opacity&quot;: 1, &quot;subdomains&quot;: &quot;abc&quot;, &quot;tms&quot;: false}\n",
       "            ).addTo(map_a9c46f213494135d284683372e13e99a);\n",
       "        \n",
       "    \n",
       "            var layer_control_b1a79a1d3232026390976b29bb5279b8 = {\n",
       "                base_layers : {\n",
       "                    &quot;openstreetmap&quot; : tile_layer_fd25c166658ffdfe770dc87b23e14680,\n",
       "                },\n",
       "                overlays :  {\n",
       "                    &quot;clusters&quot; : tile_layer_db9a7c3d83ec34b3a220e9ffdfdfecb0,\n",
       "                },\n",
       "            };\n",
       "            L.control.layers(\n",
       "                layer_control_b1a79a1d3232026390976b29bb5279b8.base_layers,\n",
       "                layer_control_b1a79a1d3232026390976b29bb5279b8.overlays,\n",
       "                {&quot;autoZIndex&quot;: true, &quot;collapsed&quot;: true, &quot;position&quot;: &quot;topright&quot;}\n",
       "            ).addTo(map_a9c46f213494135d284683372e13e99a);\n",
       "        \n",
       "&lt;/script&gt;\n",
       "&lt;/html&gt;\" style=\"position:absolute;width:100%;height:100%;left:0;top:0;border:none !important;\" allowfullscreen webkitallowfullscreen mozallowfullscreen></iframe></div></div>"
      ],
      "text/plain": [
       "<folium.folium.Map at 0x1ec300da610>"
      ]
     },
     "metadata": {},
     "output_type": "display_data"
    }
   ],
   "source": [
    "#displaying the map\n",
    "display(my_map)"
   ]
  }
 ],
 "metadata": {
  "kernelspec": {
   "display_name": "Python 3 (ipykernel)",
   "language": "python",
   "name": "python3"
  },
  "language_info": {
   "codemirror_mode": {
    "name": "ipython",
    "version": 3
   },
   "file_extension": ".py",
   "mimetype": "text/x-python",
   "name": "python",
   "nbconvert_exporter": "python",
   "pygments_lexer": "ipython3",
   "version": "3.11.5"
  }
 },
 "nbformat": 4,
 "nbformat_minor": 5
}
